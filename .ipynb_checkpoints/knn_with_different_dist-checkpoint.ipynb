{
 "cells": [
  {
   "cell_type": "code",
   "execution_count": 10,
   "metadata": {
    "collapsed": true
   },
   "outputs": [],
   "source": [
    "import numpy as np\n",
    "import pandas as pd\n",
    "import datetime\n",
    "from matplotlib import pyplot as plt\n",
    "%matplotlib inline"
   ]
  },
  {
   "cell_type": "code",
   "execution_count": 11,
   "metadata": {
    "collapsed": false
   },
   "outputs": [
    {
     "name": "stdout",
     "output_type": "stream",
     "text": [
      "(42000, 785)\n",
      "[[1 0 0 ..., 0 0 0]\n",
      " [0 0 0 ..., 0 0 0]\n",
      " [1 0 0 ..., 0 0 0]\n",
      " ..., \n",
      " [7 0 0 ..., 0 0 0]\n",
      " [6 0 0 ..., 0 0 0]\n",
      " [9 0 0 ..., 0 0 0]]\n"
     ]
    }
   ],
   "source": [
    "ds = pd.read_csv('./train.csv')\n",
    "data = ds.values\n",
    "print data.shape\n",
    "print data\n",
    "\n",
    "results = []            #To store final results"
   ]
  },
  {
   "cell_type": "code",
   "execution_count": 3,
   "metadata": {
    "collapsed": false
   },
   "outputs": [
    {
     "name": "stdout",
     "output_type": "stream",
     "text": [
      "(32000,) (32000, 784)\n",
      "(10000, 784) (10000,)\n"
     ]
    }
   ],
   "source": [
    "y_train = data[10000:,0]\n",
    "x_train = data[10000:,1:]\n",
    "print y_train.shape, x_train.shape\n",
    "\n",
    "x_test = data[:10000, 1:]\n",
    "ans_test = data[:10000, 0]\n",
    "print x_test.shape, ans_test.shape"
   ]
  },
  {
   "cell_type": "code",
   "execution_count": 5,
   "metadata": {
    "collapsed": false
   },
   "outputs": [],
   "source": [
    "def norm2_dist(x1, x2):\n",
    "    return np.sqrt(((x1-x2)**2).sum())\n",
    "\n",
    "def n2knn(x_train, x, y_train, k=5):\n",
    "    vals = []                                       #To collect list of [dist_with_point, mapped_answer_of_point]\n",
    "    for ix in range(x_train.shape[0]):\n",
    "        v = [dist(x, x_train[ix, :]), y_train[ix]]\n",
    "        vals.append(v)                              # [[dist1, value1], [dist2, value2], ... , [distn, valuen]]\n",
    "    \n",
    "    updated_vals = sorted(vals, key=lambda x:x[0])\n",
    "    pred_arr = np.asarray(updated_vals[:k])\n",
    "    pred_arr = np.unique(pred_arr, return_counts=True)\n",
    "    pred = pred_arr[1].argmax()\n",
    "    return pred_arr[0][pred]\n",
    "\n",
    "def wn2knn(x_train, x, y_train, k=5):\n",
    "    vals = []\n",
    "    for ix in range(x_train.shape[0]):\n",
    "        di = dist(x, x_train[ix, :])\n",
    "        wi = 1/(di + (10**(-6)))\n",
    "        v = [wi, y_train[ix]]\n",
    "        vals.append(v)\n",
    "\n",
    "    updated_vals = sorted(vals, key=lambda x:x[0], reverse=True)\n",
    "    updated_vals = updated_vals[:k]\n",
    "    \n",
    "    heavyweights = {}\n",
    "    for ix in range(0,k):\n",
    "        try:\n",
    "            heavyweights[updated_vals[ix][1]] += updated_vals[ix][0]\n",
    "        except:\n",
    "            heavyweights[updated_vals[ix][1]] = updated_vals[ix][0]\n",
    "    \n",
    "    v=list(heavyweights.values())\n",
    "    k=list(heavyweights.keys())\n",
    "    best = k[v.index(max(v))]\n",
    "    return best"
   ]
  },
  {
   "cell_type": "code",
   "execution_count": 6,
   "metadata": {
    "collapsed": true
   },
   "outputs": [],
   "source": [
    "def hellinger_dist(x1, x2):\n",
    "    return np.sqrt(0.5*((np.sqrt(x1) - np.sqrt(x2))**2).sum())\n",
    "\n",
    "def hknn(x_train, x, y_train, k=5):\n",
    "    vals = []\n",
    "    for ix in range(x_train.shape[0]):\n",
    "        v = [hellinger_dist(x, x_train[ix, :]), y_train[ix]]\n",
    "        vals.append(v)\n",
    "    \n",
    "    updated_vals = sorted(vals, key=lambda x:x[0])\n",
    "    pred_arr = np.asarray(updated_vals[:k])\n",
    "    pred_arr = np.unique(pred_arr, return_counts=True)\n",
    "    pred = pred_arr[1].argmax()\n",
    "    return pred_arr[0][pred]\n",
    "\n",
    "def whknn(x_train, x, y_train, k=5):\n",
    "    vals = []\n",
    "    for ix in range(x_train.shape[0]):\n",
    "        di = hellinger_dist(x, x_train[ix, :])\n",
    "        wi = 1/(di + (10**(-6)))\n",
    "        v = [wi, y_train[ix]]\n",
    "        vals.append(v)\n",
    "\n",
    "    updated_vals = sorted(vals, key=lambda x:x[0], reverse=True)\n",
    "    updated_vals = updated_vals[:k]\n",
    "    \n",
    "    heavyweights = {}\n",
    "    for ix in range(0,k):\n",
    "        try:\n",
    "            heavyweights[updated_vals[ix][1]] += updated_vals[ix][0]\n",
    "        except:\n",
    "            heavyweights[updated_vals[ix][1]] = updated_vals[ix][0]\n",
    "    \n",
    "    v=list(heavyweights.values())\n",
    "    k=list(heavyweights.keys())\n",
    "    best = k[v.index(max(v))]\n",
    "    return best"
   ]
  },
  {
   "cell_type": "code",
   "execution_count": 7,
   "metadata": {
    "collapsed": true
   },
   "outputs": [],
   "source": [
    "def manhattan_dist(x1, x2):\n",
    "    return abs(x1-x2).sum()\n",
    "\n",
    "def mknn(x_train, x, y_train, k=5):\n",
    "    vals = []\n",
    "    for ix in range(x_train.shape[0]):\n",
    "        v = [manhattan_dist(x, x_train[ix, :]), y_train[ix]]\n",
    "        vals.append(v)\n",
    "    \n",
    "    updated_vals = sorted(vals, key=lambda x:x[0])\n",
    "    pred_arr = np.asarray(updated_vals[:k])\n",
    "    pred_arr = np.unique(pred_arr, return_counts=True)\n",
    "    pred = pred_arr[1].argmax()\n",
    "    return pred_arr[0][pred]\n",
    "\n",
    "def wmknn(x_train, x, y_train, k=5):\n",
    "    vals = []\n",
    "    for ix in range(x_train.shape[0]):\n",
    "        di = manhattan_dist(x, x_train[ix, :])\n",
    "        wi = 1/(di + (10**(-6)))\n",
    "        v = [wi, y_train[ix]]\n",
    "        vals.append(v)\n",
    "\n",
    "    updated_vals = sorted(vals, key=lambda x:x[0], reverse=True)\n",
    "    updated_vals = updated_vals[:k]\n",
    "    \n",
    "    heavyweights = {}\n",
    "    for ix in range(0,k):\n",
    "        try:\n",
    "            heavyweights[updated_vals[ix][1]] += updated_vals[ix][0]\n",
    "        except:\n",
    "            heavyweights[updated_vals[ix][1]] = updated_vals[ix][0]\n",
    "    \n",
    "    v=list(heavyweights.values())\n",
    "    k=list(heavyweights.keys())\n",
    "    best = k[v.index(max(v))]\n",
    "    return best"
   ]
  },
  {
   "cell_type": "code",
   "execution_count": 28,
   "metadata": {
    "collapsed": true
   },
   "outputs": [],
   "source": [
    "def norm4_dist(x1, x2):\n",
    "    return np.sqrt(np.sqrt(((x1-x2)**4).sum()))\n",
    "\n",
    "def n4knn(x_train, x, y_train, k=5):\n",
    "    vals = []\n",
    "    for ix in range(x_train.shape[0]):\n",
    "        v = [norm4_dist(x, x_train[ix, :]), y_train[ix]]\n",
    "        vals.append(v)\n",
    "    \n",
    "    updated_vals = sorted(vals, key=lambda x:x[0])\n",
    "    pred_arr = np.asarray(updated_vals[:k])\n",
    "    pred_arr = np.unique(pred_arr, return_counts=True)\n",
    "    pred = pred_arr[1].argmax()\n",
    "    return pred_arr[0][pred]\n",
    "\n",
    "def wn4knn(x_train, x, y_train, k=5):\n",
    "    vals = []\n",
    "    for ix in range(x_train.shape[0]):\n",
    "        di = norm4_dist(x, x_train[ix, :])\n",
    "        wi = 1/(di + (10**(-8)))\n",
    "        v = [wi, y_train[ix]]\n",
    "        vals.append(v)\n",
    "\n",
    "    updated_vals = sorted(vals, key=lambda x:x[0], reverse=True)\n",
    "    updated_vals = updated_vals[:k]\n",
    "    \n",
    "    heavyweights = {}\n",
    "    for ix in range(0,k):\n",
    "        try:\n",
    "            heavyweights[updated_vals[ix][1]] += updated_vals[ix][0]\n",
    "        except:\n",
    "            heavyweights[updated_vals[ix][1]] = updated_vals[ix][0]\n",
    "    \n",
    "    v=list(heavyweights.values())\n",
    "    k=list(heavyweights.keys())\n",
    "    best = k[v.index(max(v))]\n",
    "    return best"
   ]
  },
  {
   "cell_type": "code",
   "execution_count": 8,
   "metadata": {
    "collapsed": false
   },
   "outputs": [
    {
     "name": "stdout",
     "output_type": "stream",
     "text": [
      "1.0\n",
      "1\n"
     ]
    },
    {
     "data": {
      "image/png": "[encoded data removed]",
      "text/plain": [
       "<matplotlib.figure.Figure at 0x7f673039a550>"
      ]
     },
     "metadata": {},
     "output_type": "display_data"
    }
   ],
   "source": [
    "#This cell is just for demostration\n",
    "\n",
    "idq = int(np.random.random()*x_train.shape[0])\n",
    "q = x_train[idq]\n",
    "res = knn(x_train[:10000], q, y_train[:10000], k=7)\n",
    "print res\n",
    "print y_train[idq]\n",
    "\n",
    "plt.figure(0)\n",
    "plt.imshow(q.reshape((28,28)), cmap='gray')\n",
    "plt.show()"
   ]
  },
  {
   "cell_type": "code",
   "execution_count": 20,
   "metadata": {
    "collapsed": false
   },
   "outputs": [
    {
     "name": "stdout",
     "output_type": "stream",
     "text": [
      "Starting at 17:57:55\n",
      "Hit 500. Till now C:475 I:25 A:95.0\n",
      "Hit 1000. Till now C:951 I:49 A:95.1\n",
      "Hit 1500. Till now C:1417 I:83 A:94.4666666667\n",
      "Hit 2000. Till now C:1893 I:107 A:94.65\n",
      "Hit 2500. Till now C:2368 I:132 A:94.72\n",
      "Hit 3000. Till now C:2850 I:150 A:95.0\n",
      "Hit 3500. Till now C:3326 I:174 A:95.0285714286\n",
      "Hit 4000. Till now C:3795 I:205 A:94.875\n",
      "Hit 4500. Till now C:4275 I:225 A:95.0\n",
      "Hit 5000. Till now C:4746 I:254 A:94.92\n",
      "Hit 5500. Till now C:5220 I:280 A:94.9090909091\n",
      "Hit 6000. Till now C:5699 I:301 A:94.9833333333\n",
      "Hit 6500. Till now C:6171 I:329 A:94.9384615385\n",
      "Hit 7000. Till now C:6639 I:361 A:94.8428571429\n",
      "Hit 7500. Till now C:7108 I:392 A:94.7733333333\n",
      "Hit 8000. Till now C:7574 I:426 A:94.675\n",
      "Hit 8500. Till now C:8046 I:454 A:94.6588235294\n",
      "Hit 9000. Till now C:8520 I:480 A:94.6666666667\n",
      "Hit 9500. Till now C:8996 I:504 A:94.6947368421\n",
      "Correct: 9470\n",
      "Incorrect: 530\n",
      "Accuracy for Norm-2 Dist: 94.7\n",
      "Finishing at 18:26:30\n"
     ]
    }
   ],
   "source": [
    "correct = 0\n",
    "incorrect = 0\n",
    "start_time = datetime.datetime.now()\n",
    "print 'Starting at ' + start_time.strftime(\"%H:%M:%S\")\n",
    "\n",
    "for ix in range(x_test.shape[0]):\n",
    "    if ix % 500 == 0 and ix>0:\n",
    "        print 'Hit ' + str(ix) + '. Till now C:' + str(correct) + ' I:' + str(incorrect) + ' A:' + str((float(correct)/ix)*100)\n",
    "    q = x_test[ix]\n",
    "    res = n2knn(x_train[:10000], q, y_train[:10000], k=7)\n",
    "    if res == ans_test[ix]:\n",
    "        correct += 1\n",
    "    else:\n",
    "        incorrect += 1\n",
    "\n",
    "print 'Correct: ' + str(correct)\n",
    "print 'Incorrect: ' + str(incorrect)\n",
    "accuracy = ( float(correct) / (correct + incorrect) )*100\n",
    "print 'Accuracy for Norm-2 Dist: ' + str(accuracy)\n",
    "\n",
    "end_time = datetime.datetime.now()\n",
    "print 'Finishing at ' + end_time.strftime(\"%H:%M:%S\")\n",
    "\n",
    "temp = {}\n",
    "temp['distance'] = 'Norm-2'\n",
    "temp['accuracy'] = accuracy\n",
    "temp['duration'] = end_time - start_time\n",
    "results.append(temp)"
   ]
  },
  {
   "cell_type": "code",
   "execution_count": 21,
   "metadata": {
    "collapsed": false
   },
   "outputs": [
    {
     "name": "stdout",
     "output_type": "stream",
     "text": [
      "Starting at 18:26:30\n",
      "Hit 500. Till now C:478 I:22 A:95.6\n",
      "Hit 1000. Till now C:957 I:43 A:95.7\n",
      "Hit 1500. Till now C:1427 I:73 A:95.1333333333\n",
      "Hit 2000. Till now C:1903 I:97 A:95.15\n",
      "Hit 2500. Till now C:2378 I:122 A:95.12\n",
      "Hit 3000. Till now C:2863 I:137 A:95.4333333333\n",
      "Hit 3500. Till now C:3341 I:159 A:95.4571428571\n",
      "Hit 4000. Till now C:3811 I:189 A:95.275\n",
      "Hit 4500. Till now C:4291 I:209 A:95.3555555556\n",
      "Hit 5000. Till now C:4764 I:236 A:95.28\n",
      "Hit 5500. Till now C:5239 I:261 A:95.2545454545\n",
      "Hit 6000. Till now C:5721 I:279 A:95.35\n",
      "Hit 6500. Till now C:6196 I:304 A:95.3230769231\n",
      "Hit 7000. Till now C:6666 I:334 A:95.2285714286\n",
      "Hit 7500. Till now C:7135 I:365 A:95.1333333333\n",
      "Hit 8000. Till now C:7604 I:396 A:95.05\n",
      "Hit 8500. Till now C:8078 I:422 A:95.0352941176\n",
      "Hit 9000. Till now C:8555 I:445 A:95.0555555556\n",
      "Hit 9500. Till now C:9031 I:469 A:95.0631578947\n",
      "Correct: 9506\n",
      "Incorrect: 494\n",
      "Accuracy for Weighted Norm-2 Dist: 95.06\n",
      "Finishing at 18:55:01\n"
     ]
    }
   ],
   "source": [
    "correct = 0\n",
    "incorrect = 0\n",
    "start_time = datetime.datetime.now()\n",
    "print 'Starting at ' + start_time.strftime(\"%H:%M:%S\")\n",
    "\n",
    "for ix in range(x_test.shape[0]):\n",
    "    if ix % 500 == 0 and ix>0:\n",
    "        print 'Hit ' + str(ix) + '. Till now C:' + str(correct) + ' I:' + str(incorrect) + ' A:' + str((float(correct)/ix)*100)\n",
    "    q = x_test[ix]\n",
    "    res = wn2knn(x_train[:10000], q, y_train[:10000], k=7)\n",
    "    if res == ans_test[ix]:\n",
    "        correct += 1\n",
    "    else:\n",
    "        incorrect += 1\n",
    "\n",
    "print 'Correct: ' + str(correct)\n",
    "print 'Incorrect: ' + str(incorrect)\n",
    "accuracy = ( float(correct) / (correct+incorrect) )*100\n",
    "print 'Accuracy for Weighted Norm-2 Dist: ' + str(accuracy)\n",
    "\n",
    "end_time = datetime.datetime.now()\n",
    "print 'Finishing at ' + end_time.strftime(\"%H:%M:%S\")\n",
    "\n",
    "temp = {}\n",
    "temp['distance'] = 'Weighted Norm-2'\n",
    "temp['accuracy'] = accuracy\n",
    "temp['duration'] = end_time - start_time\n",
    "results.append(temp)"
   ]
  },
  {
   "cell_type": "code",
   "execution_count": 23,
   "metadata": {
    "collapsed": false
   },
   "outputs": [
    {
     "name": "stdout",
     "output_type": "stream",
     "text": [
      "Starting at 18:58:36\n",
      "Hit 500. Till now C:479 I:21 A:95.8\n",
      "Hit 1000. Till now C:959 I:41 A:95.9\n",
      "Hit 1500. Till now C:1437 I:63 A:95.8\n",
      "Hit 2000. Till now C:1914 I:86 A:95.7\n",
      "Hit 2500. Till now C:2393 I:107 A:95.72\n",
      "Hit 3000. Till now C:2876 I:124 A:95.8666666667\n",
      "Hit 3500. Till now C:3353 I:147 A:95.8\n",
      "Hit 4000. Till now C:3822 I:178 A:95.55\n",
      "Hit 4500. Till now C:4302 I:198 A:95.6\n",
      "Hit 5000. Till now C:4778 I:222 A:95.56\n",
      "Hit 5500. Till now C:5257 I:243 A:95.5818181818\n",
      "Hit 6000. Till now C:5740 I:260 A:95.6666666667\n",
      "Hit 6500. Till now C:6216 I:284 A:95.6307692308\n",
      "Hit 7000. Till now C:6687 I:313 A:95.5285714286\n",
      "Hit 7500. Till now C:7161 I:339 A:95.48\n",
      "Hit 8000. Till now C:7628 I:372 A:95.35\n",
      "Hit 8500. Till now C:8103 I:397 A:95.3294117647\n",
      "Hit 9000. Till now C:8579 I:421 A:95.3222222222\n",
      "Hit 9500. Till now C:9058 I:442 A:95.3473684211\n",
      "Correct: 9537\n",
      "Incorrect: 463\n",
      "Accuracy for Hellinger Dist: 95.37\n",
      "Finishing at 19:29:58\n"
     ]
    }
   ],
   "source": [
    "correct = 0\n",
    "incorrect = 0\n",
    "start_time = datetime.datetime.now()\n",
    "print 'Starting at ' + start_time.strftime(\"%H:%M:%S\")\n",
    "\n",
    "for ix in range(x_test.shape[0]):\n",
    "    if ix % 500 == 0 and ix>0:\n",
    "        print 'Hit ' + str(ix) + '. Till now C:' + str(correct) + ' I:' + str(incorrect) + ' A:' + str((float(correct)/ix)*100)\n",
    "    q = x_test[ix]\n",
    "    res = hknn(x_train[:10000], q, y_train[:10000], k=7)\n",
    "    if res == ans_test[ix]:\n",
    "        correct += 1\n",
    "    else:\n",
    "        incorrect += 1\n",
    "\n",
    "print 'Correct: ' + str(correct)\n",
    "print 'Incorrect: ' + str(incorrect)\n",
    "accuracy = ( float(correct) / (correct+incorrect) )*100\n",
    "print 'Accuracy for Hellinger Dist: ' + str(accuracy)\n",
    "\n",
    "end_time = datetime.datetime.now()\n",
    "print 'Finishing at ' + end_time.strftime(\"%H:%M:%S\")\n",
    "\n",
    "temp = {}\n",
    "temp['distance'] = 'Hellinger Distance'\n",
    "temp['accuracy'] = accuracy\n",
    "temp['duration'] = end_time - start_time\n",
    "results.append(temp)"
   ]
  },
  {
   "cell_type": "code",
   "execution_count": 24,
   "metadata": {
    "collapsed": false
   },
   "outputs": [
    {
     "name": "stdout",
     "output_type": "stream",
     "text": [
      "Starting at 19:29:58\n",
      "Hit 500. Till now C:480 I:20 A:96.0\n",
      "Hit 1000. Till now C:961 I:39 A:96.1\n",
      "Hit 1500. Till now C:1440 I:60 A:96.0\n",
      "Hit 2000. Till now C:1920 I:80 A:96.0\n",
      "Hit 2500. Till now C:2400 I:100 A:96.0\n",
      "Hit 3000. Till now C:2886 I:114 A:96.2\n",
      "Hit 3500. Till now C:3364 I:136 A:96.1142857143\n",
      "Hit 4000. Till now C:3836 I:164 A:95.9\n",
      "Hit 4500. Till now C:4315 I:185 A:95.8888888889\n",
      "Hit 5000. Till now C:4792 I:208 A:95.84\n",
      "Hit 5500. Till now C:5273 I:227 A:95.8727272727\n",
      "Hit 6000. Till now C:5757 I:243 A:95.95\n",
      "Hit 6500. Till now C:6233 I:267 A:95.8923076923\n",
      "Hit 7000. Till now C:6705 I:295 A:95.7857142857\n",
      "Hit 7500. Till now C:7178 I:322 A:95.7066666667\n",
      "Hit 8000. Till now C:7647 I:353 A:95.5875\n",
      "Hit 8500. Till now C:8124 I:376 A:95.5764705882\n",
      "Hit 9000. Till now C:8602 I:398 A:95.5777777778\n",
      "Hit 9500. Till now C:9083 I:417 A:95.6105263158\n",
      "Correct: 9563\n",
      "Incorrect: 437\n",
      "Accuracy for Weighted Hellinger Dist: 95.63\n",
      "Finishing at 20:05:04\n"
     ]
    }
   ],
   "source": [
    "correct = 0\n",
    "incorrect = 0\n",
    "start_time = datetime.datetime.now()\n",
    "print 'Starting at ' + start_time.strftime(\"%H:%M:%S\")\n",
    "\n",
    "for ix in range(x_test.shape[0]):\n",
    "    if ix % 500 == 0 and ix>0:\n",
    "        print 'Hit ' + str(ix) + '. Till now C:' + str(correct) + ' I:' + str(incorrect) + ' A:' + str((float(correct)/ix)*100)\n",
    "    q = x_test[ix]\n",
    "    res = whknn(x_train[:10000], q, y_train[:10000], k=7)\n",
    "    if res == ans_test[ix]:\n",
    "        correct += 1\n",
    "    else:\n",
    "        incorrect += 1\n",
    "\n",
    "print 'Correct: ' + str(correct)\n",
    "print 'Incorrect: ' + str(incorrect)\n",
    "accuracy = ( float(correct) / (correct+incorrect) )*100\n",
    "print 'Accuracy for Weighted Hellinger Dist: ' + str(accuracy)\n",
    "\n",
    "end_time = datetime.datetime.now()\n",
    "print 'Finishing at ' + end_time.strftime(\"%H:%M:%S\")\n",
    "\n",
    "temp = {}\n",
    "temp['distance'] = 'Weighted Hellinger Distance'\n",
    "temp['accuracy'] = accuracy\n",
    "temp['duration'] = end_time - start_time\n",
    "results.append(temp)"
   ]
  },
  {
   "cell_type": "code",
   "execution_count": 25,
   "metadata": {
    "collapsed": false
   },
   "outputs": [
    {
     "name": "stdout",
     "output_type": "stream",
     "text": [
      "Starting at 20:05:04\n",
      "Hit 500. Till now C:472 I:28 A:94.4\n",
      "Hit 1000. Till now C:940 I:60 A:94.0\n",
      "Hit 1500. Till now C:1404 I:96 A:93.6\n",
      "Hit 2000. Till now C:1872 I:128 A:93.6\n",
      "Hit 2500. Till now C:2341 I:159 A:93.64\n",
      "Hit 3000. Till now C:2815 I:185 A:93.8333333333\n",
      "Hit 3500. Till now C:3284 I:216 A:93.8285714286\n",
      "Hit 4000. Till now C:3746 I:254 A:93.65\n",
      "Hit 4500. Till now C:4221 I:279 A:93.8\n",
      "Hit 5000. Till now C:4686 I:314 A:93.72\n",
      "Hit 5500. Till now C:5152 I:348 A:93.6727272727\n",
      "Hit 6000. Till now C:5625 I:375 A:93.75\n",
      "Hit 6500. Till now C:6093 I:407 A:93.7384615385\n",
      "Hit 7000. Till now C:6554 I:446 A:93.6285714286\n",
      "Hit 7500. Till now C:7018 I:482 A:93.5733333333\n",
      "Hit 8000. Till now C:7479 I:521 A:93.4875\n",
      "Hit 8500. Till now C:7948 I:552 A:93.5058823529\n",
      "Hit 9000. Till now C:8421 I:579 A:93.5666666667\n",
      "Hit 9500. Till now C:8890 I:610 A:93.5789473684\n",
      "Correct: 9357\n",
      "Incorrect: 643\n",
      "Accuracy for Manhattan Dist: 93.57\n",
      "Finishing at 20:27:33\n"
     ]
    }
   ],
   "source": [
    "correct = 0\n",
    "incorrect = 0\n",
    "start_time = datetime.datetime.now()\n",
    "print 'Starting at ' + start_time.strftime(\"%H:%M:%S\")\n",
    "\n",
    "for ix in range(x_test.shape[0]):\n",
    "    if ix % 500 == 0 and ix>0:\n",
    "        print 'Hit ' + str(ix) + '. Till now C:' + str(correct) + ' I:' + str(incorrect) + ' A:' + str((float(correct)/ix)*100)\n",
    "    q = x_test[ix]\n",
    "    res = mknn(x_train[:10000], q, y_train[:10000], k=7)\n",
    "    if res == ans_test[ix]:\n",
    "        correct += 1\n",
    "    else:\n",
    "        incorrect += 1\n",
    "\n",
    "print 'Correct: ' + str(correct)\n",
    "print 'Incorrect: ' + str(incorrect)\n",
    "accuracy = ( float(correct) / (correct+incorrect) )*100\n",
    "print 'Accuracy for Manhattan Dist: ' + str(accuracy)\n",
    "\n",
    "end_time = datetime.datetime.now()\n",
    "print 'Finishing at ' + end_time.strftime(\"%H:%M:%S\")\n",
    "\n",
    "temp = {}\n",
    "temp['distance'] = 'Manhattan Distance'\n",
    "temp['accuracy'] = accuracy\n",
    "temp['duration'] = end_time - start_time\n",
    "results.append(temp)"
   ]
  },
  {
   "cell_type": "code",
   "execution_count": 26,
   "metadata": {
    "collapsed": false
   },
   "outputs": [
    {
     "name": "stdout",
     "output_type": "stream",
     "text": [
      "Starting at 20:27:33\n",
      "Hit 500. Till now C:478 I:22 A:95.6\n",
      "Hit 1000. Till now C:947 I:53 A:94.7\n",
      "Hit 1500. Till now C:1412 I:88 A:94.1333333333\n",
      "Hit 2000. Till now C:1882 I:118 A:94.1\n",
      "Hit 2500. Till now C:2351 I:149 A:94.04\n",
      "Hit 3000. Till now C:2829 I:171 A:94.3\n",
      "Hit 3500. Till now C:3300 I:200 A:94.2857142857\n",
      "Hit 4000. Till now C:3762 I:238 A:94.05\n",
      "Hit 4500. Till now C:4236 I:264 A:94.1333333333\n",
      "Hit 5000. Till now C:4705 I:295 A:94.1\n",
      "Hit 5500. Till now C:5172 I:328 A:94.0363636364\n",
      "Hit 6000. Till now C:5646 I:354 A:94.1\n",
      "Hit 6500. Till now C:6117 I:383 A:94.1076923077\n",
      "Hit 7000. Till now C:6580 I:420 A:94.0\n",
      "Hit 7500. Till now C:7045 I:455 A:93.9333333333\n",
      "Hit 8000. Till now C:7510 I:490 A:93.875\n",
      "Hit 8500. Till now C:7981 I:519 A:93.8941176471\n",
      "Hit 9000. Till now C:8456 I:544 A:93.9555555556\n",
      "Hit 9500. Till now C:8926 I:574 A:93.9578947368\n",
      "Correct: 9397\n",
      "Incorrect: 603\n",
      "Accuracy for Weighted Manhattan Dist: 93.97\n",
      "Finishing at 20:55:16\n"
     ]
    }
   ],
   "source": [
    "correct = 0\n",
    "incorrect = 0\n",
    "start_time = datetime.datetime.now()\n",
    "print 'Starting at ' + start_time.strftime(\"%H:%M:%S\")\n",
    "\n",
    "for ix in range(x_test.shape[0]):\n",
    "    if ix % 500 == 0 and ix>0:\n",
    "        print 'Hit ' + str(ix) + '. Till now C:' + str(correct) + ' I:' + str(incorrect) + ' A:' + str((float(correct)/ix)*100)\n",
    "    q = x_test[ix]\n",
    "    res = wmknn(x_train[:10000], q, y_train[:10000], k=7)\n",
    "    if res == ans_test[ix]:\n",
    "        correct += 1\n",
    "    else:\n",
    "        incorrect += 1\n",
    "\n",
    "print 'Correct: ' + str(correct)\n",
    "print 'Incorrect: ' + str(incorrect)\n",
    "accuracy = ( float(correct) / (correct+incorrect) )*100\n",
    "print 'Accuracy for Weighted Manhattan Dist: ' + str(accuracy)\n",
    "\n",
    "end_time = datetime.datetime.now()\n",
    "print 'Finishing at ' + end_time.strftime(\"%H:%M:%S\")\n",
    "\n",
    "temp = {}\n",
    "temp['distance'] = 'Weighted Manhattan Distance'\n",
    "temp['accuracy'] = accuracy\n",
    "temp['duration'] = end_time - start_time\n",
    "results.append(temp)"
   ]
  },
  {
   "cell_type": "code",
   "execution_count": 29,
   "metadata": {
    "collapsed": false
   },
   "outputs": [
    {
     "name": "stdout",
     "output_type": "stream",
     "text": [
      "Starting at 20:59:25\n",
      "Hit 500. Till now C:480 I:20 A:96.0\n",
      "Hit 1000. Till now C:962 I:38 A:96.2\n",
      "Hit 1500. Till now C:1443 I:57 A:96.2\n",
      "Hit 2000. Till now C:1920 I:80 A:96.0\n",
      "Hit 2500. Till now C:2396 I:104 A:95.84\n",
      "Hit 3000. Till now C:2878 I:122 A:95.9333333333\n",
      "Hit 3500. Till now C:3357 I:143 A:95.9142857143\n",
      "Hit 4000. Till now C:3827 I:173 A:95.675\n",
      "Hit 4500. Till now C:4307 I:193 A:95.7111111111\n",
      "Hit 5000. Till now C:4781 I:219 A:95.62\n",
      "Hit 5500. Till now C:5257 I:243 A:95.5818181818\n",
      "Hit 6000. Till now C:5737 I:263 A:95.6166666667\n",
      "Hit 6500. Till now C:6215 I:285 A:95.6153846154\n",
      "Hit 7000. Till now C:6687 I:313 A:95.5285714286\n",
      "Hit 7500. Till now C:7166 I:334 A:95.5466666667\n",
      "Hit 8000. Till now C:7637 I:363 A:95.4625\n",
      "Hit 8500. Till now C:8114 I:386 A:95.4588235294\n",
      "Hit 9000. Till now C:8590 I:410 A:95.4444444444\n",
      "Hit 9500. Till now C:9070 I:430 A:95.4736842105\n",
      "Correct: 9550\n",
      "Incorrect: 450\n",
      "Accuracy for Weighted Norm-4 Dist: 95.5\n",
      "Finishing at 21:35:41\n"
     ]
    }
   ],
   "source": [
    "correct = 0\n",
    "incorrect = 0\n",
    "start_time = datetime.datetime.now()\n",
    "print 'Starting at ' + start_time.strftime(\"%H:%M:%S\")\n",
    "\n",
    "for ix in range(x_test.shape[0]):\n",
    "    if ix % 500 == 0 and ix>0:\n",
    "        print 'Hit ' + str(ix) + '. Till now C:' + str(correct) + ' I:' + str(incorrect) + ' A:' + str((float(correct)/ix)*100)\n",
    "    q = x_test[ix]\n",
    "    res = wn4knn(x_train[:10000], q, y_train[:10000], k=7)\n",
    "    if res == ans_test[ix]:\n",
    "        correct += 1\n",
    "    else:\n",
    "        incorrect += 1\n",
    "\n",
    "print 'Correct: ' + str(correct)\n",
    "print 'Incorrect: ' + str(incorrect)\n",
    "accuracy = ( float(correct) / (correct+incorrect) )*100\n",
    "print 'Accuracy for Weighted Norm-4 Dist: ' + str(accuracy)\n",
    "\n",
    "end_time = datetime.datetime.now()\n",
    "print 'Finishing at ' + end_time.strftime(\"%H:%M:%S\")\n",
    "\n",
    "temp = {}\n",
    "temp['distance'] = 'Weighted Norm-4 Distance'\n",
    "temp['accuracy'] = accuracy\n",
    "temp['duration'] = end_time - start_time\n",
    "results.append(temp)"
   ]
  },
  {
   "cell_type": "code",
   "execution_count": 43,
   "metadata": {
    "collapsed": false
   },
   "outputs": [
    {
     "name": "stdout",
     "output_type": "stream",
     "text": [
      "Training Data: 10000 digits (28x28) pixel points per digit\n",
      "Testing Data: 10000 digits\n",
      "--------------------\n",
      "Distance Function: Weighted Hellinger Distance\n",
      "Accuracy: 95.63\n",
      "Time Taken: 2105 seconds\n",
      "--------------------\n",
      "Distance Function: Weighted Norm-4 Distance\n",
      "Accuracy: 95.5\n",
      "Time Taken: 2175 seconds\n",
      "--------------------\n",
      "Distance Function: Hellinger Distance\n",
      "Accuracy: 95.37\n",
      "Time Taken: 1881 seconds\n",
      "--------------------\n",
      "Distance Function: Weighted Norm-2\n",
      "Accuracy: 95.06\n",
      "Time Taken: 1711 seconds\n",
      "--------------------\n",
      "Distance Function: Norm-2\n",
      "Accuracy: 94.7\n",
      "Time Taken: 1714 seconds\n",
      "--------------------\n",
      "Distance Function: Weighted Manhattan Distance\n",
      "Accuracy: 93.97\n",
      "Time Taken: 1662 seconds\n",
      "--------------------\n",
      "Distance Function: Manhattan Distance\n",
      "Accuracy: 93.57\n",
      "Time Taken: 1349 seconds\n",
      "--------------------\n"
     ]
    }
   ],
   "source": [
    "print 'Training Data: 10000 digits (28x28) pixel points per digit'\n",
    "print 'Testing Data: 10000 digits'\n",
    "print '-'*20\n",
    "\n",
    "results = sorted(results, key=lambda x:x['accuracy'], reverse=True)\n",
    "for item in results:\n",
    "    print 'Distance Function: ' + item['distance']\n",
    "    print 'Accuracy: ' + str(item['accuracy'])\n",
    "    print 'Time Taken: ' + str(item['duration'].seconds) + ' seconds'\n",
    "    print '-'*20"
   ]
  },
  {
   "cell_type": "code",
   "execution_count": null,
   "metadata": {
    "collapsed": true
   },
   "outputs": [],
   "source": []
  }
 ],
 "metadata": {
  "kernelspec": {
   "display_name": "Python 2",
   "language": "python",
   "name": "python2"
  },
  "language_info": {
   "codemirror_mode": {
    "name": "ipython",
    "version": 2
   },
   "file_extension": ".py",
   "mimetype": "text/x-python",
   "name": "python",
   "nbconvert_exporter": "python",
   "pygments_lexer": "ipython2",
   "version": "2.7.12"
  }
 },
 "nbformat": 4,
 "nbformat_minor": 2
}
